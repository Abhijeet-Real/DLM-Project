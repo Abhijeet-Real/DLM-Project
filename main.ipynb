{
 "cells": [
  {
   "cell_type": "code",
   "execution_count": 14,
   "metadata": {},
   "outputs": [
    {
     "data": {
      "text/plain": [
       "'data.zip'"
      ]
     },
     "execution_count": 14,
     "metadata": {},
     "output_type": "execute_result"
    }
   ],
   "source": [
    "import gdown\n",
    "\n",
    "# Google Drive file ID\n",
    "file_id = \"10unbXtwfW1lrovlVXxPCl5VazMj9A7i2\"\n",
    "# URL to the file\n",
    "url = f\"https://drive.google.com/uc?id={file_id}\"\n",
    "# Output file name\n",
    "output = \"data.zip\"\n",
    "\n",
    "# Download the file\n",
    "gdown.download(url, output, quiet=True)"
   ]
  },
  {
   "cell_type": "code",
   "execution_count": 15,
   "metadata": {},
   "outputs": [],
   "source": [
    "import zipfile\n",
    "\n",
    "# Extract the data.zip file\n",
    "with zipfile.ZipFile(output, 'r') as zip_ref:\n",
    "    zip_ref.extractall(\"extracted_data\")"
   ]
  },
  {
   "cell_type": "code",
   "execution_count": 16,
   "metadata": {},
   "outputs": [
    {
     "name": "stdout",
     "output_type": "stream",
     "text": [
      "Dataframes created: ['client', 'electricity_prices', 'forecast_weather', 'gas_prices', 'historical_weather', 'train', 'weather_station_to_county_mapping']\n"
     ]
    }
   ],
   "source": [
    "import os\n",
    "import pandas as pd\n",
    "\n",
    "# Directory containing the extracted files\n",
    "extracted_folder = \"extracted_data\"\n",
    "\n",
    "# List all files in the extracted folder\n",
    "files = os.listdir(extracted_folder)\n",
    "\n",
    "# Dictionary to store dataframes\n",
    "dataframes = {}\n",
    "\n",
    "# Loop through all files and read CSV files into dataframes\n",
    "for file in files:\n",
    "    if file.endswith('.csv'):\n",
    "        file_path = os.path.join(extracted_folder, file)\n",
    "        df_name = os.path.splitext(file)[0]  # Use the file name without extension as the dataframe name\n",
    "        dataframes[df_name] = pd.read_csv(file_path)\n",
    "\n",
    "# Print the names of the dataframes created\n",
    "print(\"Dataframes created:\", list(dataframes.keys()))"
   ]
  },
  {
   "cell_type": "code",
   "execution_count": 18,
   "metadata": {},
   "outputs": [],
   "source": [
    "from IPython.display import display\n",
    "pd.set_option('display.max_columns', None)\n",
    "\n",
    "for name, df in dataframes.items():\n",
    "    break\n",
    "    print(f\"DataFrame: {name}\")\n",
    "    display(df)"
   ]
  }
 ],
 "metadata": {
  "kernelspec": {
   "display_name": ".venv",
   "language": "python",
   "name": "python3"
  },
  "language_info": {
   "codemirror_mode": {
    "name": "ipython",
    "version": 3
   },
   "file_extension": ".py",
   "mimetype": "text/x-python",
   "name": "python",
   "nbconvert_exporter": "python",
   "pygments_lexer": "ipython3",
   "version": "3.13.2"
  }
 },
 "nbformat": 4,
 "nbformat_minor": 2
}
