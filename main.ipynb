{
 "cells": [
  {
   "cell_type": "markdown",
   "metadata": {},
   "source": [
    "# Imports"
   ]
  },
  {
   "cell_type": "code",
   "execution_count": 2,
   "metadata": {},
   "outputs": [],
   "source": [
    "# =========================\n",
    "# File Handling and OS\n",
    "# =========================\n",
    "import os\n",
    "import sys\n",
    "import zipfile\n",
    "import gdown\n",
    "\n",
    "# =========================\n",
    "# Ensure the notebook recognizes local modules\n",
    "# =========================\n",
    "sys.path.append(os.getcwd())\n",
    "\n",
    "# =========================\n",
    "# Miscellaneous\n",
    "# =========================\n",
    "import time\n",
    "import warnings\n",
    "import config\n",
    "import support_function as sf\n",
    "\n",
    "# =========================\n",
    "# Data Processing\n",
    "# =========================\n",
    "import numpy as np\n",
    "import pandas as pd\n",
    "import idx2numpy\n",
    "from sklearn.impute import SimpleImputer\n",
    "\n",
    "# =========================\n",
    "# Image Processing\n",
    "# =========================\n",
    "import cv2\n",
    "from scipy.ndimage import gaussian_filter, sobel\n",
    "\n",
    "# =========================\n",
    "# Visualization\n",
    "# =========================\n",
    "import matplotlib.pyplot as plt\n",
    "import seaborn as sns\n",
    "from IPython.display import display\n",
    "\n",
    "# =========================\n",
    "# Machine Learning\n",
    "# =========================\n",
    "from sklearn.model_selection import train_test_split, cross_val_score, cross_val_predict\n",
    "from sklearn.tree import DecisionTreeClassifier\n",
    "from sklearn.ensemble import RandomForestClassifier\n",
    "from sklearn.metrics import (\n",
    "    accuracy_score,\n",
    "    precision_score,\n",
    "    recall_score,\n",
    "    f1_score,\n",
    "    confusion_matrix,\n",
    "    classification_report\n",
    ")\n",
    "from xgboost import XGBClassifier\n",
    "\n",
    "# =========================\n",
    "# Deep Learning\n",
    "# =========================\n",
    "import tensorflow as tf\n",
    "from tensorflow.keras import models, layers # type: ignore\n",
    "from tensorflow.keras.utils import to_categorical # type: ignore"
   ]
  },
  {
   "cell_type": "code",
   "execution_count": 6,
   "metadata": {},
   "outputs": [
    {
     "data": {
      "text/plain": [
       "'data.zip'"
      ]
     },
     "execution_count": 6,
     "metadata": {},
     "output_type": "execute_result"
    }
   ],
   "source": [
    "# Google Drive file ID\n",
    "file_id = \"10unbXtwfW1lrovlVXxPCl5VazMj9A7i2\"\n",
    "# URL to the file\n",
    "url = f\"https://drive.google.com/uc?id={file_id}\"\n",
    "# Output file name\n",
    "output = \"data.zip\"\n",
    "\n",
    "# Download the file\n",
    "gdown.download(url, output, quiet=True)"
   ]
  },
  {
   "cell_type": "code",
   "execution_count": 7,
   "metadata": {},
   "outputs": [],
   "source": [
    "# Extract the data.zip file\n",
    "with zipfile.ZipFile(output, 'r') as zip_ref:\n",
    "    zip_ref.extractall(\"extracted_data\")"
   ]
  },
  {
   "cell_type": "code",
   "execution_count": 3,
   "metadata": {},
   "outputs": [
    {
     "name": "stdout",
     "output_type": "stream",
     "text": [
      "Dataframes created: ['client', 'electricity_prices', 'forecast_weather', 'gas_prices', 'historical_weather', 'train', 'weather_station_to_county_mapping']\n"
     ]
    }
   ],
   "source": [
    "# Directory containing the extracted files\n",
    "extracted_folder = \"extracted_data\"\n",
    "\n",
    "# List all files in the extracted folder\n",
    "files = os.listdir(extracted_folder)\n",
    "\n",
    "# Dictionary to store dataframes\n",
    "dataframes = {}\n",
    "\n",
    "# Loop through all files and read CSV files into dataframes\n",
    "for file in files:\n",
    "    if file.endswith('.csv'):\n",
    "        file_path = os.path.join(extracted_folder, file)\n",
    "        df_name = os.path.splitext(file)[0]  # Use the file name without extension as the dataframe name\n",
    "        dataframes[df_name] = pd.read_csv(file_path)\n",
    "\n",
    "# Print the names of the dataframes created\n",
    "print(\"Dataframes created:\", list(dataframes.keys()))"
   ]
  },
  {
   "cell_type": "markdown",
   "metadata": {},
   "source": [
    "# EDA"
   ]
  },
  {
   "cell_type": "code",
   "execution_count": null,
   "metadata": {},
   "outputs": [],
   "source": [
    "# Display all dataframes\n",
    "sf.AA02_display_all(dataframes)"
   ]
  }
 ],
 "metadata": {
  "kernelspec": {
   "display_name": ".venv",
   "language": "python",
   "name": "python3"
  },
  "language_info": {
   "codemirror_mode": {
    "name": "ipython",
    "version": 3
   },
   "file_extension": ".py",
   "mimetype": "text/x-python",
   "name": "python",
   "nbconvert_exporter": "python",
   "pygments_lexer": "ipython3",
   "version": "3.10.11"
  }
 },
 "nbformat": 4,
 "nbformat_minor": 2
}
